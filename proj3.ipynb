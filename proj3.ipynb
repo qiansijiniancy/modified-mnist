{
  "nbformat": 4,
  "nbformat_minor": 0,
  "metadata": {
    "colab": {
      "name": "proj3.ipynb",
      "version": "0.3.2",
      "provenance": [],
      "collapsed_sections": []
    },
    "kernelspec": {
      "name": "python3",
      "display_name": "Python 3"
    },
    "accelerator": "GPU"
  },
  "cells": [
    {
      "metadata": {
        "id": "Njz5V9zOsowg",
        "colab_type": "code",
        "colab": {}
      },
      "cell_type": "code",
      "source": [
        "#!pip install tensorflow-gpu"
      ],
      "execution_count": 0,
      "outputs": []
    },
    {
      "metadata": {
        "id": "O7CK6WpusqDo",
        "colab_type": "code",
        "outputId": "51c7fa66-ad68-475d-d8c0-5a74e79b6150",
        "colab": {
          "base_uri": "https://localhost:8080/",
          "height": 156
        }
      },
      "cell_type": "code",
      "source": [
        "import sys\n",
        "import cv2\n",
        "import numpy as np \n",
        "import pandas as pd\n",
        "import os\n",
        "import matplotlib.pyplot as plt\n",
        "from skimage.transform import resize\n",
        "from skimage import exposure\n",
        "import imutils\n",
        "\n",
        "import tensorflow as tf\n",
        "import keras\n",
        "from keras.datasets import mnist\n",
        "from keras.models import Sequential\n",
        "from keras.models import model_from_json\n",
        "from keras.layers import Dense, Dropout, Flatten\n",
        "from keras.layers import Conv2D, MaxPooling2D\n",
        "from keras import backend as K\n",
        "from keras.preprocessing.image import ImageDataGenerator\n",
        "from keras.models import load_model\n",
        "from sklearn.model_selection import train_test_split\n",
        "from keras.applications import VGG16, VGG19\n",
        "from keras import layers\n",
        "from keras import optimizers\n",
        "from keras.layers import Dense, Dropout, Flatten, Conv2D, MaxPooling2D, BatchNormalization\n",
        "from keras.optimizers import Adam, Adadelta\n",
        "from keras.applications import imagenet_utils\n",
        "\n",
        "from google.colab import files\n",
        "\n",
        "# speed-up using multithreads\n",
        "cv2.setUseOptimized(True);\n",
        "cv2.setNumThreads(8);\n",
        "\n",
        "# to load data from google drive\n",
        "from google.colab import drive\n",
        "drive.mount('/content/gdrive')\n",
        "#!ls gdrive/My\\ Drive/COMP551_proj3/data/\n",
        "#!ls gdrive/My\\ Drive/data/"
      ],
      "execution_count": 0,
      "outputs": [
        {
          "output_type": "stream",
          "text": [
            "Using TensorFlow backend.\n"
          ],
          "name": "stderr"
        },
        {
          "output_type": "stream",
          "text": [
            "Go to this URL in a browser: https://accounts.google.com/o/oauth2/auth?client_id=947318989803-6bn6qk8qdgf4n4g3pfee6491hc0brc4i.apps.googleusercontent.com&redirect_uri=urn%3Aietf%3Awg%3Aoauth%3A2.0%3Aoob&scope=email%20https%3A%2F%2Fwww.googleapis.com%2Fauth%2Fdocs.test%20https%3A%2F%2Fwww.googleapis.com%2Fauth%2Fdrive%20https%3A%2F%2Fwww.googleapis.com%2Fauth%2Fdrive.photos.readonly%20https%3A%2F%2Fwww.googleapis.com%2Fauth%2Fpeopleapi.readonly&response_type=code\n",
            "\n",
            "Enter your authorization code:\n",
            "··········\n",
            "Mounted at /content/gdrive\n",
            "ls: cannot access 'gdrive/My Drive/data/': No such file or directory\n"
          ],
          "name": "stdout"
        }
      ]
    },
    {
      "metadata": {
        "id": "seWIExxNvnZK",
        "colab_type": "code",
        "colab": {}
      },
      "cell_type": "code",
      "source": [
        "def get_best_region(contours):    \n",
        "    max_dim = 0\n",
        "    best_con = None\n",
        "    for con in contours:\n",
        "        x, y, w, h = cv2.boundingRect(con)\n",
        "        curr_max_dim = max(w,h)\n",
        "        if(curr_max_dim > max_dim):\n",
        "            max_dim = curr_max_dim\n",
        "            best_con = con\n",
        "    return cv2.boundingRect(best_con)\n",
        "\n",
        "def display_image_with_bound(im, procesed, x,y,w,h, cropped):\n",
        "    imOut = im.copy()\n",
        "    #cv2.rectangle(imOut, (x, y), (x+w, y+h), (0, 255, 0), 1, cv2.LINE_AA)\n",
        "    cv2.rectangle(imOut, (x, y), (x+w, y+h), (255,255,255), 2)\n",
        "\n",
        "    # show output\n",
        "    plt.subplot(141),plt.imshow(im), plt.title('Input')\n",
        "    plt.subplot(142),plt.imshow(procesed), plt.title('After contrast stretching')\n",
        "    plt.subplot(143),plt.imshow(imOut), plt.title('With largest bounding box')\n",
        "    plt.subplot(144),plt.imshow(cropped), plt.title('Resulting resized image')\n",
        "    plt.show()\n",
        "    \n",
        "#This method calls the above methods and returns a (resized) cropped image\n",
        "def find_best_bound_region(im_orig, display=False):\n",
        "    \n",
        "    im = im_orig.astype('uint8')\n",
        "    \n",
        "    # remove background noise\n",
        "    im_processed = exposure.rescale_intensity(im, in_range=(255, 0))\n",
        "  \n",
        "    # get bound regions\n",
        "    contours = cv2.findContours(im_processed.copy(),cv2.RETR_TREE,cv2.CHAIN_APPROX_SIMPLE) \n",
        "    \n",
        "    x,y,w,h = get_best_region(contours[1])\n",
        "    \n",
        "    im_cropped = im_processed[y:y+h, x:x+w]\n",
        "    \n",
        "    #image_resized = cv2.resize(im_cropped, (img_dim, img_dim), interpolation = cv2.INTER_NEAREST)\n",
        "    image_resized = cv2.resize(im_cropped, (img_dim, img_dim))\n",
        "    \n",
        "    if display:\n",
        "        display_image_with_bound(im_orig, im_processed, x,y,w,h, image_resized)\n",
        "        \n",
        "    return image_resized"
      ],
      "execution_count": 0,
      "outputs": []
    },
    {
      "metadata": {
        "id": "ngbBDycuwXgf",
        "colab_type": "code",
        "colab": {}
      },
      "cell_type": "code",
      "source": [
        "# dimensions of pre-processed image\n",
        "img_dim = 28\n",
        "\n",
        "# load data\n",
        "X_data = pd.read_pickle('gdrive/My Drive/COMP551_proj3/data/train_images.pkl')\n",
        "X_test = pd.read_pickle('gdrive/My Drive/COMP551_proj3/data/test_images.pkl')\n",
        "\n",
        "y_data_orig = pd.read_csv('gdrive/My Drive/COMP551_proj3/data/train_labels.csv')\n",
        "y_data = keras.utils.to_categorical(y_data_orig['Category'])\n",
        "\n",
        "\n",
        "# X_data = pd.read_pickle('gdrive/My Drive/data/train_images.pkl')\n",
        "# y_data_orig = pd.read_csv('gdrive/My Drive/data/train_labels.csv')\n",
        "# X_test = pd.read_pickle('gdrive/My Drive/data/test_images.pkl')\n",
        "# y_data = keras.utils.to_categorical(y_data_orig['Category'])"
      ],
      "execution_count": 0,
      "outputs": []
    },
    {
      "metadata": {
        "id": "7_URgbP6xJjb",
        "colab_type": "code",
        "outputId": "f52c5541-19e4-4656-f9c4-456ab554af05",
        "colab": {
          "base_uri": "https://localhost:8080/",
          "height": 817
        }
      },
      "cell_type": "code",
      "source": [
        "#visualize results\n",
        "plt.rcParams['figure.figsize'] = [15, 5]\n",
        "random = np.random.randint(0, len(X_data), size=(5,))\n",
        "for i in random:\n",
        "    print('id:', i, 'expected:', y_data_orig['Category'].iloc[i])\n",
        "    find_best_bound_region(X_data[i], display=True)"
      ],
      "execution_count": 0,
      "outputs": [
        {
          "output_type": "stream",
          "text": [
            "id: 796 expected: 2\n"
          ],
          "name": "stdout"
        },
        {
          "output_type": "display_data",
          "data": {
            "image/png": "[encoded data removed]",
            "text/plain": [
              "<Figure size 576x396 with 4 Axes>"
            ]
          },
          "metadata": {
            "tags": []
          }
        },
        {
          "output_type": "stream",
          "text": [
            "id: 9477 expected: 8\n"
          ],
          "name": "stdout"
        },
        {
          "output_type": "display_data",
          "data": {
            "image/png": "[encoded data removed]",
            "text/plain": [
              "<Figure size 576x396 with 4 Axes>"
            ]
          },
          "metadata": {
            "tags": []
          }
        },
        {
          "output_type": "stream",
          "text": [
            "id: 4602 expected: 2\n"
          ],
          "name": "stdout"
        },
        {
          "output_type": "display_data",
          "data": {
            "image/png": "[encoded data removed]",
            "text/plain": [
              "<Figure size 576x396 with 4 Axes>"
            ]
          },
          "metadata": {
            "tags": []
          }
        },
        {
          "output_type": "stream",
          "text": [
            "id: 13253 expected: 8\n"
          ],
          "name": "stdout"
        },
        {
          "output_type": "display_data",
          "data": {
            "image/png": "[encoded data removed]",
            "text/plain": [
              "<Figure size 576x396 with 4 Axes>"
            ]
          },
          "metadata": {
            "tags": []
          }
        },
        {
          "output_type": "stream",
          "text": [
            "id: 23826 expected: 6\n"
          ],
          "name": "stdout"
        },
        {
          "output_type": "display_data",
          "data": {
            "image/png": "[encoded data removed]",
            "text/plain": [
              "<Figure size 576x396 with 4 Axes>"
            ]
          },
          "metadata": {
            "tags": []
          }
        }
      ]
    },
    {
      "metadata": {
        "id": "Zis9oNdRM5ba",
        "colab_type": "code",
        "colab": {}
      },
      "cell_type": "code",
      "source": [
        "def pre_process_images(X_data):\n",
        "    X_data_processed = []\n",
        "    \n",
        "    for i in range(len(X_data)):\n",
        "        X_data_processed.append(find_best_bound_region(X_data[i]))\n",
        "    \n",
        "    return np.array(X_data_processed)/255.0"
      ],
      "execution_count": 0,
      "outputs": []
    },
    {
      "metadata": {
        "id": "hfb2nYPG6bxE",
        "colab_type": "code",
        "colab": {}
      },
      "cell_type": "code",
      "source": [
        "X_data_processed = pre_process_images(X_data)"
      ],
      "execution_count": 0,
      "outputs": []
    },
    {
      "metadata": {
        "id": "lxENrBKR9h_b",
        "colab_type": "code",
        "outputId": "ae9f7d6e-7ce4-4c27-ffa5-a26807d1369c",
        "colab": {
          "base_uri": "https://localhost:8080/",
          "height": 34
        }
      },
      "cell_type": "code",
      "source": [
        "X_data_processed2 = X_data_processed.reshape(X_data_processed.shape[0], img_dim, img_dim, 1)\n",
        "X_data_processed2.shape"
      ],
      "execution_count": 0,
      "outputs": [
        {
          "output_type": "execute_result",
          "data": {
            "text/plain": [
              "(40000, 28, 28, 1)"
            ]
          },
          "metadata": {
            "tags": []
          },
          "execution_count": 10
        }
      ]
    },
    {
      "metadata": {
        "id": "AUPN3Cl29iCR",
        "colab_type": "code",
        "colab": {}
      },
      "cell_type": "code",
      "source": [
        "X_train, X_val, y_train, y_val = train_test_split(X_data_processed2, y_data, test_size=0, random_state=39)"
      ],
      "execution_count": 0,
      "outputs": []
    },
    {
      "metadata": {
        "id": "ymx-QOiF_k3H",
        "colab_type": "code",
        "outputId": "0941f27e-5829-47b7-ceed-e07d2cf65442",
        "colab": {
          "base_uri": "https://localhost:8080/",
          "height": 34
        }
      },
      "cell_type": "code",
      "source": [
        "X_train.shape"
      ],
      "execution_count": 0,
      "outputs": [
        {
          "output_type": "execute_result",
          "data": {
            "text/plain": [
              "(40000, 28, 28, 1)"
            ]
          },
          "metadata": {
            "tags": []
          },
          "execution_count": 12
        }
      ]
    },
    {
      "metadata": {
        "id": "ojqF_B0jBbm6",
        "colab_type": "code",
        "outputId": "c6bbc93a-4848-4570-9fbd-2eeed353e530",
        "colab": {
          "base_uri": "https://localhost:8080/",
          "height": 105
        }
      },
      "cell_type": "code",
      "source": [
        "# Augment mnist data for training\n",
        "\n",
        "mnist = tf.keras.datasets.mnist\n",
        "\n",
        "(X_train_mnist, y_train_mnist),(X_test_mnist, y_test_mnist) = mnist.load_data()\n",
        "X_train_mnist, X_test_mnist = X_train_mnist / 255.0, X_test_mnist / 255.0\n",
        "\n",
        "X_data_mnist = np.append(X_train_mnist, X_test_mnist, axis=0)\n",
        "X_data_mnist2 = X_data_mnist.reshape(X_data_mnist.shape[0], img_dim, img_dim, 1)\n",
        "\n",
        "y_data_mnist = np.append(y_train_mnist, y_test_mnist, axis=0)\n",
        "\n",
        "\n",
        "X_train_combined = np.append(X_train, X_data_mnist2, axis=0)\n",
        "print(X_train_combined.shape)\n",
        "\n",
        "y_train_combined = np.append(y_train, keras.utils.to_categorical(y_data_mnist), axis=0)\n",
        "print(y_train_combined.shape)"
      ],
      "execution_count": 0,
      "outputs": [
        {
          "output_type": "stream",
          "text": [
            "Downloading data from https://storage.googleapis.com/tensorflow/tf-keras-datasets/mnist.npz\n",
            "11493376/11490434 [==============================] - 0s 0us/step\n",
            "(110000, 28, 28, 1)\n",
            "(110000, 10)\n"
          ],
          "name": "stdout"
        }
      ]
    },
    {
      "metadata": {
        "id": "fchDW7a2GtVe",
        "colab_type": "code",
        "outputId": "75a8f4fe-9a05-4f53-e47f-6c84a5f57e14",
        "colab": {
          "base_uri": "https://localhost:8080/",
          "height": 364
        }
      },
      "cell_type": "code",
      "source": [
        "plt.imshow(X_train_combined[4373].reshape(img_dim, img_dim))"
      ],
      "execution_count": 0,
      "outputs": [
        {
          "output_type": "execute_result",
          "data": {
            "text/plain": [
              "<matplotlib.image.AxesImage at 0x7f80d0ee1518>"
            ]
          },
          "metadata": {
            "tags": []
          },
          "execution_count": 14
        },
        {
          "output_type": "display_data",
          "data": {
            "image/png": "[encoded data removed]",
            "text/plain": [
              "<Figure size 576x396 with 1 Axes>"
            ]
          },
          "metadata": {
            "tags": []
          }
        }
      ]
    },
    {
      "metadata": {
        "id": "TsciwlrAGtpY",
        "colab_type": "code",
        "outputId": "b2524b39-c126-4c70-a7ba-a4af24b054ee",
        "colab": {
          "base_uri": "https://localhost:8080/",
          "height": 364
        }
      },
      "cell_type": "code",
      "source": [
        "plt.imshow(X_train_combined[74373].reshape(img_dim, img_dim))"
      ],
      "execution_count": 0,
      "outputs": [
        {
          "output_type": "execute_result",
          "data": {
            "text/plain": [
              "<matplotlib.image.AxesImage at 0x7f80d0fb1898>"
            ]
          },
          "metadata": {
            "tags": []
          },
          "execution_count": 15
        },
        {
          "output_type": "display_data",
          "data": {
            "image/png": "[encoded data removed]",
            "text/plain": [
              "<Figure size 576x396 with 1 Axes>"
            ]
          },
          "metadata": {
            "tags": []
          }
        }
      ]
    },
    {
      "metadata": {
        "id": "PgejM-3wNa37",
        "colab_type": "code",
        "colab": {}
      },
      "cell_type": "code",
      "source": [
        "def get_model():    \n",
        "    model = Sequential()\n",
        "    model.add(Conv2D(32, kernel_size=(3, 3), activation='relu', input_shape=(img_dim,img_dim,1)))\n",
        "    model.add(Dropout(0.2))\n",
        "    model.add(Conv2D(64, (3, 3), activation='relu', padding='same'))\n",
        "    model.add(Dropout(0.2))\n",
        "    model.add(Conv2D(128, (3, 3), activation='relu', padding='same'))\n",
        "    model.add(MaxPooling2D(pool_size=(2, 2)))\n",
        "    model.add(Flatten())\n",
        "    model.add(Dropout(0.25))\n",
        "    model.add(Dense(512, activation='relu'))\n",
        "    model.add(Dropout(0.25))\n",
        "    model.add(Dense(10, activation='softmax'))\n",
        "\n",
        "    model.compile(loss=keras.losses.categorical_crossentropy, optimizer=keras.optimizers.Adadelta(), metrics=['accuracy'])\n",
        "    \n",
        "    return model\n",
        "\n",
        "\n",
        "def get_model2():\n",
        "  model = Sequential()\n",
        "  model.add(Conv2D(32, kernel_size=(3, 3), activation='relu', input_shape=(img_dim,img_dim,1)))\n",
        "  model.add(Conv2D(32, kernel_size=(3, 3), activation='relu'))\n",
        "  model.add(BatchNormalization())\n",
        "  model.add(MaxPooling2D(pool_size=(2, 2)))\n",
        "\n",
        "  model.add(Conv2D(64, kernel_size=(3, 3), activation='relu'))\n",
        "  model.add(Conv2D(64, kernel_size=(3, 3), activation='relu'))\n",
        "  model.add(BatchNormalization())\n",
        "  model.add(MaxPooling2D(pool_size=(2, 2)))\n",
        "\n",
        "  model.add(Flatten())\n",
        "  model.add(Dense(512, activation='relu'))\n",
        "  model.add(Dropout(0.5))\n",
        "  model.add(Dense(512, activation='relu'))\n",
        "  model.add(Dropout(0.5))\n",
        "  model.add(Dense(10, activation='softmax'))\n",
        "\n",
        "\n",
        "  model.compile(loss=keras.losses.categorical_crossentropy,\n",
        "              optimizer=keras.optimizers.Adadelta(),\n",
        "              metrics=['accuracy'])\n",
        "  return model"
      ],
      "execution_count": 0,
      "outputs": []
    },
    {
      "metadata": {
        "id": "r5G6jew2Nfze",
        "colab_type": "code",
        "colab": {}
      },
      "cell_type": "code",
      "source": [
        "data_generator = ImageDataGenerator(rotation_range=20,\n",
        "                                    width_shift_range=0.1,\n",
        "                                    height_shift_range=0.1,\n",
        "                                    shear_range=0.1,\n",
        "                                    zoom_range=0.1)\n"
      ],
      "execution_count": 0,
      "outputs": []
    },
    {
      "metadata": {
        "id": "WP7KkOcUvqVI",
        "colab_type": "code",
        "outputId": "b9463916-1f72-4631-ecf1-217d5bffcdf6",
        "colab": {
          "base_uri": "https://localhost:8080/",
          "height": 2125
        }
      },
      "cell_type": "code",
      "source": [
        "model = get_model2()\n",
        "\n",
        "\n",
        "from keras.callbacks import ModelCheckpoint\n",
        "filepath=\"checkpointing.hdf5\"\n",
        "checkpoint = ModelCheckpoint(filepath, monitor='val_acc', verbose=1, save_best_only=True, mode='max')\n",
        "callbacks_list = [checkpoint]\n",
        "\n",
        "num_steps= 1000\n",
        "batch_size=1024\n",
        "model.fit_generator(data_generator.flow(X_train, y_train,batch_size=batch_size),\n",
        "          callbacks=callbacks_list,\n",
        "          epochs=100,\n",
        "          steps_per_epoch=num_steps)\n",
        "\n",
        "\n",
        "#model.fit(X_train, y_train, epochs=20, validation_data=(X_val, y_val))"
      ],
      "execution_count": 0,
      "outputs": [
        {
          "output_type": "stream",
          "text": [
            "Epoch 1/100\n",
            "1000/1000 [==============================] - 295s 295ms/step - loss: 0.4485 - acc: 0.8792\n",
            "Epoch 2/100\n"
          ],
          "name": "stdout"
        },
        {
          "output_type": "stream",
          "text": [
            "/usr/local/lib/python3.6/dist-packages/keras/callbacks.py:434: RuntimeWarning: Can save best model only with val_acc available, skipping.\n",
            "  'skipping.' % (self.monitor), RuntimeWarning)\n"
          ],
          "name": "stderr"
        },
        {
          "output_type": "stream",
          "text": [
            "1000/1000 [==============================] - 295s 295ms/step - loss: 0.2761 - acc: 0.9315\n",
            "Epoch 3/100\n",
            "1000/1000 [==============================] - 284s 284ms/step - loss: 0.2405 - acc: 0.9400\n",
            "Epoch 4/100\n",
            "1000/1000 [==============================] - 282s 282ms/step - loss: 0.2203 - acc: 0.9450\n",
            "Epoch 5/100\n",
            "1000/1000 [==============================] - 280s 280ms/step - loss: 0.2042 - acc: 0.9484\n",
            "Epoch 6/100\n",
            "1000/1000 [==============================] - 280s 280ms/step - loss: 0.1919 - acc: 0.9515\n",
            "Epoch 7/100\n",
            "1000/1000 [==============================] - 279s 279ms/step - loss: 0.1821 - acc: 0.9537\n",
            "Epoch 8/100\n",
            "1000/1000 [==============================] - 278s 278ms/step - loss: 0.1738 - acc: 0.9554\n",
            "Epoch 9/100\n",
            "1000/1000 [==============================] - 281s 281ms/step - loss: 0.1652 - acc: 0.9569\n",
            "Epoch 10/100\n",
            "1000/1000 [==============================] - 279s 279ms/step - loss: 0.1596 - acc: 0.9583\n",
            "Epoch 11/100\n",
            "1000/1000 [==============================] - 276s 276ms/step - loss: 0.1547 - acc: 0.9593\n",
            "Epoch 12/100\n",
            "1000/1000 [==============================] - 276s 276ms/step - loss: 0.1496 - acc: 0.9602\n",
            "Epoch 13/100\n",
            "1000/1000 [==============================] - 270s 270ms/step - loss: 0.1433 - acc: 0.9615\n",
            "Epoch 14/100\n",
            "1000/1000 [==============================] - 270s 270ms/step - loss: 0.1405 - acc: 0.9622\n",
            "Epoch 15/100\n",
            "1000/1000 [==============================] - 273s 273ms/step - loss: 0.1362 - acc: 0.9629\n",
            "Epoch 16/100\n",
            "1000/1000 [==============================] - 287s 287ms/step - loss: 0.1339 - acc: 0.9633\n",
            "Epoch 17/100\n",
            "1000/1000 [==============================] - 291s 291ms/step - loss: 0.1288 - acc: 0.9645\n",
            "Epoch 18/100\n",
            "1000/1000 [==============================] - 285s 285ms/step - loss: 0.1261 - acc: 0.9654\n",
            "Epoch 19/100\n",
            "1000/1000 [==============================] - 290s 290ms/step - loss: 0.1236 - acc: 0.9655\n",
            "Epoch 20/100\n",
            "1000/1000 [==============================] - 287s 287ms/step - loss: 0.1213 - acc: 0.9658\n",
            "Epoch 21/100\n",
            "1000/1000 [==============================] - 281s 281ms/step - loss: 0.1187 - acc: 0.9665\n",
            "Epoch 22/100\n",
            "1000/1000 [==============================] - 279s 279ms/step - loss: 0.1165 - acc: 0.9669\n",
            "Epoch 23/100\n",
            "1000/1000 [==============================] - 289s 289ms/step - loss: 0.1135 - acc: 0.9674\n",
            "Epoch 24/100\n",
            "1000/1000 [==============================] - 284s 284ms/step - loss: 0.1127 - acc: 0.9677\n",
            "Epoch 25/100\n",
            "1000/1000 [==============================] - 282s 282ms/step - loss: 0.1114 - acc: 0.9682\n",
            "Epoch 26/100\n",
            "1000/1000 [==============================] - 279s 279ms/step - loss: 0.1079 - acc: 0.9688\n",
            "Epoch 27/100\n",
            "1000/1000 [==============================] - 282s 282ms/step - loss: 0.1064 - acc: 0.9688\n",
            "Epoch 28/100\n",
            "1000/1000 [==============================] - 286s 286ms/step - loss: 0.1049 - acc: 0.9692\n",
            "Epoch 29/100\n",
            "1000/1000 [==============================] - 286s 286ms/step - loss: 0.1028 - acc: 0.9700\n",
            "Epoch 30/100\n",
            "1000/1000 [==============================] - 286s 286ms/step - loss: 0.1019 - acc: 0.9699\n",
            "Epoch 31/100\n",
            "1000/1000 [==============================] - 283s 283ms/step - loss: 0.0993 - acc: 0.9708\n",
            "Epoch 32/100\n",
            "1000/1000 [==============================] - 282s 282ms/step - loss: 0.0986 - acc: 0.9708\n",
            "Epoch 33/100\n",
            "1000/1000 [==============================] - 288s 288ms/step - loss: 0.0967 - acc: 0.9712\n",
            "Epoch 34/100\n",
            "1000/1000 [==============================] - 288s 288ms/step - loss: 0.0967 - acc: 0.9714\n",
            "Epoch 35/100\n",
            "1000/1000 [==============================] - 287s 287ms/step - loss: 0.0944 - acc: 0.9717\n",
            "Epoch 36/100\n",
            "1000/1000 [==============================] - 286s 286ms/step - loss: 0.0939 - acc: 0.9720\n",
            "Epoch 37/100\n",
            "1000/1000 [==============================] - 288s 288ms/step - loss: 0.0927 - acc: 0.9720\n",
            "Epoch 38/100\n",
            "1000/1000 [==============================] - 288s 288ms/step - loss: 0.0906 - acc: 0.9725\n",
            "Epoch 39/100\n",
            "1000/1000 [==============================] - 287s 287ms/step - loss: 0.0905 - acc: 0.9728\n",
            "Epoch 40/100\n",
            "1000/1000 [==============================] - 291s 291ms/step - loss: 0.0881 - acc: 0.9731\n",
            "Epoch 41/100\n",
            "1000/1000 [==============================] - 290s 290ms/step - loss: 0.0866 - acc: 0.9734\n",
            "Epoch 42/100\n",
            "1000/1000 [==============================] - 288s 288ms/step - loss: 0.0869 - acc: 0.9734\n",
            "Epoch 43/100\n",
            "1000/1000 [==============================] - 292s 292ms/step - loss: 0.0862 - acc: 0.9736\n",
            "Epoch 44/100\n",
            "1000/1000 [==============================] - 297s 297ms/step - loss: 0.0854 - acc: 0.9740\n",
            "Epoch 45/100\n",
            "1000/1000 [==============================] - 296s 296ms/step - loss: 0.0841 - acc: 0.9744\n",
            "Epoch 46/100\n",
            "1000/1000 [==============================] - 297s 297ms/step - loss: 0.0837 - acc: 0.9743\n",
            "Epoch 47/100\n",
            "1000/1000 [==============================] - 292s 292ms/step - loss: 0.0837 - acc: 0.9743\n",
            "Epoch 48/100\n",
            "1000/1000 [==============================] - 291s 291ms/step - loss: 0.0816 - acc: 0.9749\n",
            "Epoch 49/100\n",
            "1000/1000 [==============================] - 288s 288ms/step - loss: 0.0819 - acc: 0.9747\n",
            "Epoch 50/100\n",
            "1000/1000 [==============================] - 288s 288ms/step - loss: 0.0815 - acc: 0.9750\n",
            "Epoch 51/100\n",
            "1000/1000 [==============================] - 287s 287ms/step - loss: 0.0798 - acc: 0.9752\n",
            "Epoch 52/100\n",
            "1000/1000 [==============================] - 288s 288ms/step - loss: 0.0797 - acc: 0.9755\n",
            "Epoch 53/100\n",
            "1000/1000 [==============================] - 287s 287ms/step - loss: 0.0780 - acc: 0.9759\n",
            "Epoch 54/100\n",
            "1000/1000 [==============================] - 288s 288ms/step - loss: 0.0774 - acc: 0.9758\n",
            "Epoch 55/100\n",
            "1000/1000 [==============================] - 288s 288ms/step - loss: 0.0765 - acc: 0.9762\n",
            "Epoch 56/100\n",
            "1000/1000 [==============================] - 289s 289ms/step - loss: 0.0758 - acc: 0.9765\n",
            "Epoch 57/100\n",
            "1000/1000 [==============================] - 288s 288ms/step - loss: 0.0760 - acc: 0.9765\n",
            "Epoch 58/100\n",
            "1000/1000 [==============================] - 289s 289ms/step - loss: 0.0739 - acc: 0.9770\n",
            "Epoch 59/100\n",
            "1000/1000 [==============================] - 289s 289ms/step - loss: 0.0747 - acc: 0.9766\n",
            "Epoch 60/100\n",
            "1000/1000 [==============================] - 288s 288ms/step - loss: 0.0740 - acc: 0.9771\n",
            "Epoch 61/100\n",
            " 423/1000 [===========>..................] - ETA: 2:45 - loss: 0.0718 - acc: 0.9774Buffered data was truncated after reaching the output size limit."
          ],
          "name": "stdout"
        }
      ]
    },
    {
      "metadata": {
        "id": "SZAegZzhSVwh",
        "colab_type": "code",
        "colab": {}
      },
      "cell_type": "code",
      "source": [
        "model.save('epoch_100_batch_size_1024_with_interpolation_newnewbb_imagegen_with_mnist.h5')\n",
        "!mv epoch_100_batch_size_1024_with_interpolation_newnewbb_imagegen_with_mnist.h5 gdrive/My\\ Drive/COMP551_proj3/models/\n",
        "#model.save('gdrive/My Drive/COMP551_proj3/models/epoch_100_batch_size_1024_with_interpolation_newnewbb_imagegen_with_mnist.h5')"
      ],
      "execution_count": 0,
      "outputs": []
    },
    {
      "metadata": {
        "id": "hvQmd0u3U2Qr",
        "colab_type": "code",
        "colab": {}
      },
      "cell_type": "code",
      "source": [
        "#test images\n",
        "X_test_processed = pre_process_images(X_test)\n",
        "X_test_processed2 = X_test_processed.reshape(X_test_processed.shape[0], img_dim, img_dim, 1)\n",
        "print(X_test_processed2.shape)"
      ],
      "execution_count": 0,
      "outputs": []
    },
    {
      "metadata": {
        "id": "HhfW9zyOU68s",
        "colab_type": "code",
        "colab": {}
      },
      "cell_type": "code",
      "source": [
        "predictions = model.predict_classes(X_test_processed2)\n",
        "pd.DataFrame(predictions).to_csv(\"epoch_100_batch_size_1024_with_interpolation_newnewbb_imagegen_with_mnist.csv\", header=['Category'], index_label='Id')\n",
        "\n",
        "#see prediction distribution\n",
        "y = np.bincount(predictions)\n",
        "ii = np.nonzero(y)[0]\n",
        "print(ii)\n",
        "print(y[ii])"
      ],
      "execution_count": 0,
      "outputs": []
    },
    {
      "metadata": {
        "id": "bH_bLHtRYEGt",
        "colab_type": "code",
        "colab": {}
      },
      "cell_type": "code",
      "source": [
        "!ls\n",
        "!mv epoch_100_batch_size_1024_with_interpolation_newnewbb_imagegen_with_mnist.csv gdrive/My\\ Drive/COMP551_proj3/\n",
        "!ls gdrive/My\\ Drive/COMP551_proj3/"
      ],
      "execution_count": 0,
      "outputs": []
    },
    {
      "metadata": {
        "id": "PXkFFfQ2Qx3s",
        "colab_type": "code",
        "colab": {}
      },
      "cell_type": "code",
      "source": [
        ""
      ],
      "execution_count": 0,
      "outputs": []
    },
    {
      "metadata": {
        "id": "W4iQ70I8bpUm",
        "colab_type": "text"
      },
      "cell_type": "markdown",
      "source": [
        ""
      ]
    }
  ]
}